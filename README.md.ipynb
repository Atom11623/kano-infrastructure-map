{
 "cells": [
  {
   "cell_type": "markdown",
   "id": "8a622a5f",
   "metadata": {},
   "source": [
    "# Kano State Infrastructure Map Project\n",
    "\n",
    "## Overview\n",
    "\n",
    "This project involves creating an interactive map of Kano State, Nigeria, to visualize critical infrastructure such as schools, hospitals, and universities. The map integrates data from OpenStreetMap and employs various Python libraries for extraction and visualization.\n",
    "\n",
    "## Objectives\n",
    "\n",
    "- Extract infrastructure data (schools, hospitals, universities) from OpenStreetMap.\n",
    "- Process and visualize this data using interactive maps with Folium.\n",
    "- Provide insights into the infrastructure landscape of Kano State.\n",
    "\n",
    "## Project Structure\n",
    "\n",
    "1. **Data Extraction** (`data_extraction.py`):\n",
    "   - Uses the `overpy` library to query OpenStreetMap for infrastructure data.\n",
    "   - Extracts information about schools, hospitals, and universities.\n",
    "   - Saves the data to a CSV file (`kano_infrastructure.csv`).\n",
    "\n",
    "2. **Interactive Map Creation** (`map_creation.py`):\n",
    "   - Uses Folium to create an interactive map with layers for schools, hospitals, and universities.\n",
    "   - Includes a heatmap layer to visualize density.\n",
    "   - Adds a legend and title for better understanding and presentation.\n",
    "\n",
    "## Requirements\n",
    "\n",
    "Ensure you have the following Python libraries installed:\n",
    "\n",
    "```bash\n",
    "pip install folium pandas overpy\n"
   ]
  },
  {
   "cell_type": "code",
   "execution_count": null,
   "id": "3ee10fde",
   "metadata": {},
   "outputs": [],
   "source": []
  }
 ],
 "metadata": {
  "kernelspec": {
   "display_name": "Python 3 (ipykernel)",
   "language": "python",
   "name": "python3"
  },
  "language_info": {
   "codemirror_mode": {
    "name": "ipython",
    "version": 3
   },
   "file_extension": ".py",
   "mimetype": "text/x-python",
   "name": "python",
   "nbconvert_exporter": "python",
   "pygments_lexer": "ipython3",
   "version": "3.9.13"
  }
 },
 "nbformat": 4,
 "nbformat_minor": 5
}
